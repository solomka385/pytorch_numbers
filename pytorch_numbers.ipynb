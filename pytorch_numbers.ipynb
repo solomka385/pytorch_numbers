{
 "cells": [
  {
   "cell_type": "code",
   "execution_count": 36,
   "id": "c5ed6888-faeb-4cf4-9c59-635bcbee01fb",
   "metadata": {},
   "outputs": [],
   "source": [
    "import torch\n",
    "import torch.nn as nn\n",
    "import torchvision as tv\n",
    "import numpy as np\n",
    "import matplotlib.pyplot as plt\n",
    "import cv2\n",
    "import os\n",
    "from tqdm import tqdm\n"
   ]
  },
  {
   "cell_type": "code",
   "execution_count": 11,
   "id": "9950c33e-5032-4acf-8e95-21641488c23a",
   "metadata": {},
   "outputs": [],
   "source": [
    "trans = tv.transforms.Compose([\n",
    "    tv.transforms.ToTensor()\n",
    "])"
   ]
  },
  {
   "cell_type": "code",
   "execution_count": 12,
   "id": "29698cf5-6cea-4fcb-abf1-ee6b8ebe32e9",
   "metadata": {},
   "outputs": [],
   "source": [
    "ds_mist = tv.datasets.MNIST('./dataset', download = True, transform = trans)"
   ]
  },
  {
   "cell_type": "code",
   "execution_count": 16,
   "id": "b96fb263-b9e6-45b4-869a-d53cfabbc48c",
   "metadata": {},
   "outputs": [
    {
     "data": {
      "text/plain": [
       "<matplotlib.image.AxesImage at 0x178a79bdc70>"
      ]
     },
     "execution_count": 16,
     "metadata": {},
     "output_type": "execute_result"
    },
    {
     "data": {
      "image/png": "[encoded data removed]",
      "text/plain": [
       "<Figure size 640x480 with 1 Axes>"
      ]
     },
     "metadata": {},
     "output_type": "display_data"
    }
   ],
   "source": [
    "ds_mist[0][0].numpy()[0].shape\n",
    "plt.imshow(ds_mist[0][0].numpy()[0])"
   ]
  },
  {
   "cell_type": "code",
   "execution_count": 17,
   "id": "a3a08799-6c69-4740-96f4-d531a736e01e",
   "metadata": {},
   "outputs": [],
   "source": [
    "batch_size = 16\n",
    "dataloader = torch.utils.data.DataLoader(ds_mist,batch_size=batch_size, shuffle=True,\n",
    "                                         num_workers = 1, drop_last = True )\n"
   ]
  },
  {
   "cell_type": "code",
   "execution_count": 19,
   "id": "4c95a358-d0c4-4029-bf79-e5612e67460b",
   "metadata": {},
   "outputs": [
    {
     "name": "stdout",
     "output_type": "stream",
     "text": [
      "torch.Size([16, 1, 28, 28])\n",
      "torch.Size([16])\n"
     ]
    }
   ],
   "source": [
    "for img, label in dataloader:\n",
    "    print(img.shape)\n",
    "    print(label.shape)\n",
    "    break"
   ]
  },
  {
   "cell_type": "code",
   "execution_count": 32,
   "id": "d2951099-f4ce-4c61-859c-dea545c426e3",
   "metadata": {},
   "outputs": [],
   "source": [
    "class Neural_nubmers(nn.Module):\n",
    "    def __init__(self):\n",
    "        super().__init__()\n",
    "        self.flat = nn.Flatten()\n",
    "        self.linear1 = nn.Linear(28*28,100)\n",
    "        self.linear2 = nn.Linear(100,10)\n",
    "        self.act = nn.ReLU()\n",
    "        \n",
    "    def forward(self,x):\n",
    "        out = self.flat(x)\n",
    "        out = self.linear1(out)\n",
    "        out = self.act(out)\n",
    "        out = self.linear2(out)\n",
    "        return out\n",
    "        "
   ]
  },
  {
   "cell_type": "code",
   "execution_count": 38,
   "id": "2c5f505a-fae9-40a6-b513-ec7c4aafdb2d",
   "metadata": {},
   "outputs": [],
   "source": [
    "model = Neural_nubmers()"
   ]
  },
  {
   "cell_type": "code",
   "execution_count": 22,
   "id": "92385c8a-9fd1-4162-8708-04efba2b74e0",
   "metadata": {},
   "outputs": [],
   "source": [
    "loss_fn = nn.CrossEntropyLoss()"
   ]
  },
  {
   "cell_type": "code",
   "execution_count": 27,
   "id": "8cea440a-758c-4c6e-bb47-ebfc71728eeb",
   "metadata": {},
   "outputs": [],
   "source": [
    "optimizer = torch.optim.SGD(model.parameters(), lr = 1e-3, momentum = 0.9) "
   ]
  },
  {
   "cell_type": "code",
   "execution_count": 44,
   "id": "d6866b2c-018d-4e51-9404-824f5cdad69d",
   "metadata": {},
   "outputs": [
    {
     "name": "stderr",
     "output_type": "stream",
     "text": [
      "loss: 2.3019626140594482: 100%|███████████████████████████████████████████████████| 3750/3750 [00:14<00:00, 253.99it/s]\n"
     ]
    },
    {
     "name": "stdout",
     "output_type": "stream",
     "text": [
      "2.3008201107025146\n"
     ]
    },
    {
     "name": "stderr",
     "output_type": "stream",
     "text": [
      "loss: 2.301145553588867: 100%|████████████████████████████████████████████████████| 3750/3750 [00:14<00:00, 258.33it/s]\n"
     ]
    },
    {
     "name": "stdout",
     "output_type": "stream",
     "text": [
      "2.3008201077779136\n"
     ]
    },
    {
     "name": "stderr",
     "output_type": "stream",
     "text": [
      "loss: 2.287950038909912: 100%|████████████████████████████████████████████████████| 3750/3750 [00:14<00:00, 261.66it/s]\n"
     ]
    },
    {
     "name": "stdout",
     "output_type": "stream",
     "text": [
      "2.300820107460022\n"
     ]
    },
    {
     "name": "stderr",
     "output_type": "stream",
     "text": [
      "loss: 2.2624239921569824: 100%|███████████████████████████████████████████████████| 3750/3750 [00:14<00:00, 258.83it/s]\n"
     ]
    },
    {
     "name": "stdout",
     "output_type": "stream",
     "text": [
      "2.300820109685262\n"
     ]
    },
    {
     "name": "stderr",
     "output_type": "stream",
     "text": [
      "loss: 2.2917795181274414: 100%|███████████████████████████████████████████████████| 3750/3750 [00:15<00:00, 249.76it/s]\n"
     ]
    },
    {
     "name": "stdout",
     "output_type": "stream",
     "text": [
      "2.300820108985901\n"
     ]
    },
    {
     "name": "stderr",
     "output_type": "stream",
     "text": [
      "loss: 2.290961742401123: 100%|████████████████████████████████████████████████████| 3750/3750 [00:14<00:00, 253.32it/s]\n"
     ]
    },
    {
     "name": "stdout",
     "output_type": "stream",
     "text": [
      "2.3008201109568276\n"
     ]
    },
    {
     "name": "stderr",
     "output_type": "stream",
     "text": [
      "loss: 2.293435573577881: 100%|████████████████████████████████████████████████████| 3750/3750 [00:14<00:00, 260.45it/s]\n"
     ]
    },
    {
     "name": "stdout",
     "output_type": "stream",
     "text": [
      "2.3008201087315876\n"
     ]
    },
    {
     "name": "stderr",
     "output_type": "stream",
     "text": [
      "loss: 2.298487424850464: 100%|████████████████████████████████████████████████████| 3750/3750 [00:15<00:00, 245.66it/s]\n"
     ]
    },
    {
     "name": "stdout",
     "output_type": "stream",
     "text": [
      "2.300820110575358\n"
     ]
    },
    {
     "name": "stderr",
     "output_type": "stream",
     "text": [
      "loss: 2.301975965499878: 100%|████████████████████████████████████████████████████| 3750/3750 [00:15<00:00, 236.58it/s]\n"
     ]
    },
    {
     "name": "stdout",
     "output_type": "stream",
     "text": [
      "2.3008201080322266\n"
     ]
    },
    {
     "name": "stderr",
     "output_type": "stream",
     "text": [
      "loss: 2.2681076526641846: 100%|███████████████████████████████████████████████████| 3750/3750 [00:15<00:00, 239.98it/s]"
     ]
    },
    {
     "name": "stdout",
     "output_type": "stream",
     "text": [
      "2.300820110384623\n"
     ]
    },
    {
     "name": "stderr",
     "output_type": "stream",
     "text": [
      "\n"
     ]
    }
   ],
   "source": [
    "epoch = 10\n",
    "for epoch in range(epoch):\n",
    "    loss_val = 0\n",
    "    for img, label in (pbar := tqdm(dataloader)):\n",
    "        optimizer.zero_grad()\n",
    "        label = nn.functional.one_hot(label,10).float()\n",
    "        pred = model(img)\n",
    "        loss = loss_fn(pred, label)\n",
    "        loss.backward()\n",
    "        loss_item = loss.item()\n",
    "        loss_val += loss_item\n",
    "        optimizer.step()\n",
    "        pbar.set_description(f'loss: {loss_item: 5f}')\n",
    "    print(loss_val/len(dataloader))\n"
   ]
  },
  {
   "cell_type": "code",
   "execution_count": null,
   "id": "a1c12b0a-7ab2-49e7-87d4-f87fde01c7a5",
   "metadata": {},
   "outputs": [],
   "source": []
  }
 ],
 "metadata": {
  "kernelspec": {
   "display_name": "Python 3 (ipykernel)",
   "language": "python",
   "name": "python3"
  },
  "language_info": {
   "codemirror_mode": {
    "name": "ipython",
    "version": 3
   },
   "file_extension": ".py",
   "mimetype": "text/x-python",
   "name": "python",
   "nbconvert_exporter": "python",
   "pygments_lexer": "ipython3",
   "version": "3.12.2"
  }
 },
 "nbformat": 4,
 "nbformat_minor": 5
}
